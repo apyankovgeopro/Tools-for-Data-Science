{
 "cells": [
  {
   "cell_type": "markdown",
   "metadata": {},
   "source": [
    "# Hello World!"
   ]
  },
  {
   "cell_type": "markdown",
   "metadata": {},
   "source": [
    " # Welcome to Alexander Pyankov's Jupiter Notebook. \"Create and Share Your Jupyter Notebook\" project!"
   ]
  },
  {
   "cell_type": "markdown",
   "metadata": {},
   "source": [
    "# Here is the link to the course: https://www.coursera.org/learn/open-source-tools-for-data-science/home/welcome\n"
   ]
  },
  {
   "cell_type": "code",
   "execution_count": null,
   "metadata": {},
   "outputs": [],
   "source": [
    "# The next cell calculates how much I pay for course:"
   ]
  },
  {
   "cell_type": "code",
   "execution_count": 2,
   "metadata": {},
   "outputs": [
    {
     "name": "stdout",
     "output_type": "stream",
     "text": [
      "For Tool of Data Science course you will pay in total 80 $.\n"
     ]
    }
   ],
   "source": [
    "import math                #importing math for math.ceil() function (rounding up).\n",
    "MonthlyFee = 20            # monthly fee in USD\n",
    "CourseLength = 4         # course length according to Coursera in month\n",
    "MyPace = 1                 # the coefficient which show how much times faster you can pass the course\n",
    "TotalFee = math.ceil(CourseLength/MyPace)*MonthlyFee # counting the fee\n",
    "print('For Tool of Data Science course you will pay in total',TotalFee,'$.') # output the values."
   ]
  },
  {
   "cell_type": "code",
   "execution_count": null,
   "metadata": {},
   "outputs": [],
   "source": [
    "#I am interested in Data Science just because I like to work with Data."
   ]
  },
  {
   "cell_type": "code",
   "execution_count": 1,
   "metadata": {},
   "outputs": [],
   "source": [
    "#The end!"
   ]
  },
  {
   "cell_type": "code",
   "execution_count": null,
   "metadata": {},
   "outputs": [],
   "source": []
  }
 ],
 "metadata": {
  "kernelspec": {
   "display_name": "Python 3",
   "language": "python",
   "name": "python3"
  },
  "language_info": {
   "codemirror_mode": {
    "name": "ipython",
    "version": 3
   },
   "file_extension": ".py",
   "mimetype": "text/x-python",
   "name": "python",
   "nbconvert_exporter": "python",
   "pygments_lexer": "ipython3",
   "version": "3.6.11"
  }
 },
 "nbformat": 4,
 "nbformat_minor": 2
}
